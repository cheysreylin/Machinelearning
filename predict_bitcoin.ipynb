{
  "nbformat": 4,
  "nbformat_minor": 0,
  "metadata": {
    "colab": {
      "name": "predict_bitcoin.ipynb",
      "provenance": [],
      "authorship_tag": "ABX9TyMp9fzdKdNWYjDe8tPKOM9Z",
      "include_colab_link": true
    },
    "kernelspec": {
      "name": "python3",
      "display_name": "Python 3"
    },
    "language_info": {
      "name": "python"
    },
    "accelerator": "GPU",
    "gpuClass": "standard"
  },
  "cells": [
    {
      "cell_type": "markdown",
      "metadata": {
        "id": "view-in-github",
        "colab_type": "text"
      },
      "source": [
        "<a href=\"https://colab.research.google.com/github/cheysreylin/Machinelearning/blob/main/predict_bitcoin.ipynb\" target=\"_parent\"><img src=\"https://colab.research.google.com/assets/colab-badge.svg\" alt=\"Open In Colab\"/></a>"
      ]
    },
    {
      "cell_type": "code",
      "execution_count": 15,
      "metadata": {
        "id": "41nTWLVcYCsk"
      },
      "outputs": [],
      "source": [
        "import sklearn\n",
        "import pandas as pd\n",
        "import numpy as np \n",
        "import matplotlib.pyplot as plt\n",
        "\n",
        "from sklearn import datasets \n",
        "from sklearn.model_selection import train_test_split\n",
        "from sklearn.linear_model import LinearRegression "
      ]
    },
    {
      "cell_type": "code",
      "source": [
        "# import dataset \n",
        "from google.colab import files\n",
        "upload = files.upload()"
      ],
      "metadata": {
        "colab": {
          "resources": {
            "http://localhost:8080/nbextensions/google.colab/files.js": {
              "data": "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",
              "ok": true,
              "headers": [
                [
                  "content-type",
                  "application/javascript"
                ]
              ],
              "status": 200,
              "status_text": ""
            }
          },
          "base_uri": "https://localhost:8080/",
          "height": 73
        },
        "id": "CD5mBknkY27_",
        "outputId": "e960bc77-6703-463b-ce17-3f1a5a49bf59"
      },
      "execution_count": 16,
      "outputs": [
        {
          "output_type": "display_data",
          "data": {
            "text/plain": [
              "<IPython.core.display.HTML object>"
            ],
            "text/html": [
              "\n",
              "     <input type=\"file\" id=\"files-52a9eabf-af0c-48a5-8ac7-31659da523b5\" name=\"files[]\" multiple disabled\n",
              "        style=\"border:none\" />\n",
              "     <output id=\"result-52a9eabf-af0c-48a5-8ac7-31659da523b5\">\n",
              "      Upload widget is only available when the cell has been executed in the\n",
              "      current browser session. Please rerun this cell to enable.\n",
              "      </output>\n",
              "      <script src=\"/nbextensions/google.colab/files.js\"></script> "
            ]
          },
          "metadata": {}
        },
        {
          "output_type": "stream",
          "name": "stdout",
          "text": [
            "Saving BTC-USD (1).csv to BTC-USD (1).csv\n"
          ]
        }
      ]
    },
    {
      "cell_type": "code",
      "source": [
        "# read the dataset\n",
        "dataset = pd.read_csv(\"BTC-USD (1).csv\")\n",
        "dataset.head(10)"
      ],
      "metadata": {
        "colab": {
          "base_uri": "https://localhost:8080/",
          "height": 363
        },
        "id": "cvHBQjY0ZOU6",
        "outputId": "be4a3839-7f03-4b98-cf51-a7021a58c203"
      },
      "execution_count": 18,
      "outputs": [
        {
          "output_type": "execute_result",
          "data": {
            "text/plain": [
              "         Date          Open          High           Low         Close  \\\n",
              "0  2021-01-01  28994.009766  29600.626953  28803.585938  29374.152344   \n",
              "1  2021-01-02  29376.455078  33155.117188  29091.181641  32127.267578   \n",
              "2  2021-01-03  32129.408203  34608.558594  32052.316406  32782.023438   \n",
              "3  2021-01-04  32810.949219  33440.218750  28722.755859  31971.914063   \n",
              "4  2021-01-05  31977.041016  34437.589844  30221.187500  33992.429688   \n",
              "5  2021-01-06  34013.613281  36879.699219  33514.035156  36824.363281   \n",
              "6  2021-01-07  36833.875000  40180.367188  36491.191406  39371.042969   \n",
              "7  2021-01-08  39381.765625  41946.738281  36838.636719  40797.609375   \n",
              "8  2021-01-09  40788.640625  41436.351563  38980.875000  40254.546875   \n",
              "9  2021-01-10  40254.218750  41420.191406  35984.628906  38356.441406   \n",
              "\n",
              "      Adj Close       Volume  \n",
              "0  29374.152344  40730301359  \n",
              "1  32127.267578  67865420765  \n",
              "2  32782.023438  78665235202  \n",
              "3  31971.914063  81163475344  \n",
              "4  33992.429688  67547324782  \n",
              "5  36824.363281  75289433811  \n",
              "6  39371.042969  84762141031  \n",
              "7  40797.609375  88107519480  \n",
              "8  40254.546875  61984162837  \n",
              "9  38356.441406  79980747690  "
            ],
            "text/html": [
              "\n",
              "  <div id=\"df-7115306d-350a-4ce8-8a79-5b32c23582de\">\n",
              "    <div class=\"colab-df-container\">\n",
              "      <div>\n",
              "<style scoped>\n",
              "    .dataframe tbody tr th:only-of-type {\n",
              "        vertical-align: middle;\n",
              "    }\n",
              "\n",
              "    .dataframe tbody tr th {\n",
              "        vertical-align: top;\n",
              "    }\n",
              "\n",
              "    .dataframe thead th {\n",
              "        text-align: right;\n",
              "    }\n",
              "</style>\n",
              "<table border=\"1\" class=\"dataframe\">\n",
              "  <thead>\n",
              "    <tr style=\"text-align: right;\">\n",
              "      <th></th>\n",
              "      <th>Date</th>\n",
              "      <th>Open</th>\n",
              "      <th>High</th>\n",
              "      <th>Low</th>\n",
              "      <th>Close</th>\n",
              "      <th>Adj Close</th>\n",
              "      <th>Volume</th>\n",
              "    </tr>\n",
              "  </thead>\n",
              "  <tbody>\n",
              "    <tr>\n",
              "      <th>0</th>\n",
              "      <td>2021-01-01</td>\n",
              "      <td>28994.009766</td>\n",
              "      <td>29600.626953</td>\n",
              "      <td>28803.585938</td>\n",
              "      <td>29374.152344</td>\n",
              "      <td>29374.152344</td>\n",
              "      <td>40730301359</td>\n",
              "    </tr>\n",
              "    <tr>\n",
              "      <th>1</th>\n",
              "      <td>2021-01-02</td>\n",
              "      <td>29376.455078</td>\n",
              "      <td>33155.117188</td>\n",
              "      <td>29091.181641</td>\n",
              "      <td>32127.267578</td>\n",
              "      <td>32127.267578</td>\n",
              "      <td>67865420765</td>\n",
              "    </tr>\n",
              "    <tr>\n",
              "      <th>2</th>\n",
              "      <td>2021-01-03</td>\n",
              "      <td>32129.408203</td>\n",
              "      <td>34608.558594</td>\n",
              "      <td>32052.316406</td>\n",
              "      <td>32782.023438</td>\n",
              "      <td>32782.023438</td>\n",
              "      <td>78665235202</td>\n",
              "    </tr>\n",
              "    <tr>\n",
              "      <th>3</th>\n",
              "      <td>2021-01-04</td>\n",
              "      <td>32810.949219</td>\n",
              "      <td>33440.218750</td>\n",
              "      <td>28722.755859</td>\n",
              "      <td>31971.914063</td>\n",
              "      <td>31971.914063</td>\n",
              "      <td>81163475344</td>\n",
              "    </tr>\n",
              "    <tr>\n",
              "      <th>4</th>\n",
              "      <td>2021-01-05</td>\n",
              "      <td>31977.041016</td>\n",
              "      <td>34437.589844</td>\n",
              "      <td>30221.187500</td>\n",
              "      <td>33992.429688</td>\n",
              "      <td>33992.429688</td>\n",
              "      <td>67547324782</td>\n",
              "    </tr>\n",
              "    <tr>\n",
              "      <th>5</th>\n",
              "      <td>2021-01-06</td>\n",
              "      <td>34013.613281</td>\n",
              "      <td>36879.699219</td>\n",
              "      <td>33514.035156</td>\n",
              "      <td>36824.363281</td>\n",
              "      <td>36824.363281</td>\n",
              "      <td>75289433811</td>\n",
              "    </tr>\n",
              "    <tr>\n",
              "      <th>6</th>\n",
              "      <td>2021-01-07</td>\n",
              "      <td>36833.875000</td>\n",
              "      <td>40180.367188</td>\n",
              "      <td>36491.191406</td>\n",
              "      <td>39371.042969</td>\n",
              "      <td>39371.042969</td>\n",
              "      <td>84762141031</td>\n",
              "    </tr>\n",
              "    <tr>\n",
              "      <th>7</th>\n",
              "      <td>2021-01-08</td>\n",
              "      <td>39381.765625</td>\n",
              "      <td>41946.738281</td>\n",
              "      <td>36838.636719</td>\n",
              "      <td>40797.609375</td>\n",
              "      <td>40797.609375</td>\n",
              "      <td>88107519480</td>\n",
              "    </tr>\n",
              "    <tr>\n",
              "      <th>8</th>\n",
              "      <td>2021-01-09</td>\n",
              "      <td>40788.640625</td>\n",
              "      <td>41436.351563</td>\n",
              "      <td>38980.875000</td>\n",
              "      <td>40254.546875</td>\n",
              "      <td>40254.546875</td>\n",
              "      <td>61984162837</td>\n",
              "    </tr>\n",
              "    <tr>\n",
              "      <th>9</th>\n",
              "      <td>2021-01-10</td>\n",
              "      <td>40254.218750</td>\n",
              "      <td>41420.191406</td>\n",
              "      <td>35984.628906</td>\n",
              "      <td>38356.441406</td>\n",
              "      <td>38356.441406</td>\n",
              "      <td>79980747690</td>\n",
              "    </tr>\n",
              "  </tbody>\n",
              "</table>\n",
              "</div>\n",
              "      <button class=\"colab-df-convert\" onclick=\"convertToInteractive('df-7115306d-350a-4ce8-8a79-5b32c23582de')\"\n",
              "              title=\"Convert this dataframe to an interactive table.\"\n",
              "              style=\"display:none;\">\n",
              "        \n",
              "  <svg xmlns=\"http://www.w3.org/2000/svg\" height=\"24px\"viewBox=\"0 0 24 24\"\n",
              "       width=\"24px\">\n",
              "    <path d=\"M0 0h24v24H0V0z\" fill=\"none\"/>\n",
              "    <path d=\"M18.56 5.44l.94 2.06.94-2.06 2.06-.94-2.06-.94-.94-2.06-.94 2.06-2.06.94zm-11 1L8.5 8.5l.94-2.06 2.06-.94-2.06-.94L8.5 2.5l-.94 2.06-2.06.94zm10 10l.94 2.06.94-2.06 2.06-.94-2.06-.94-.94-2.06-.94 2.06-2.06.94z\"/><path d=\"M17.41 7.96l-1.37-1.37c-.4-.4-.92-.59-1.43-.59-.52 0-1.04.2-1.43.59L10.3 9.45l-7.72 7.72c-.78.78-.78 2.05 0 2.83L4 21.41c.39.39.9.59 1.41.59.51 0 1.02-.2 1.41-.59l7.78-7.78 2.81-2.81c.8-.78.8-2.07 0-2.86zM5.41 20L4 18.59l7.72-7.72 1.47 1.35L5.41 20z\"/>\n",
              "  </svg>\n",
              "      </button>\n",
              "      \n",
              "  <style>\n",
              "    .colab-df-container {\n",
              "      display:flex;\n",
              "      flex-wrap:wrap;\n",
              "      gap: 12px;\n",
              "    }\n",
              "\n",
              "    .colab-df-convert {\n",
              "      background-color: #E8F0FE;\n",
              "      border: none;\n",
              "      border-radius: 50%;\n",
              "      cursor: pointer;\n",
              "      display: none;\n",
              "      fill: #1967D2;\n",
              "      height: 32px;\n",
              "      padding: 0 0 0 0;\n",
              "      width: 32px;\n",
              "    }\n",
              "\n",
              "    .colab-df-convert:hover {\n",
              "      background-color: #E2EBFA;\n",
              "      box-shadow: 0px 1px 2px rgba(60, 64, 67, 0.3), 0px 1px 3px 1px rgba(60, 64, 67, 0.15);\n",
              "      fill: #174EA6;\n",
              "    }\n",
              "\n",
              "    [theme=dark] .colab-df-convert {\n",
              "      background-color: #3B4455;\n",
              "      fill: #D2E3FC;\n",
              "    }\n",
              "\n",
              "    [theme=dark] .colab-df-convert:hover {\n",
              "      background-color: #434B5C;\n",
              "      box-shadow: 0px 1px 3px 1px rgba(0, 0, 0, 0.15);\n",
              "      filter: drop-shadow(0px 1px 2px rgba(0, 0, 0, 0.3));\n",
              "      fill: #FFFFFF;\n",
              "    }\n",
              "  </style>\n",
              "\n",
              "      <script>\n",
              "        const buttonEl =\n",
              "          document.querySelector('#df-7115306d-350a-4ce8-8a79-5b32c23582de button.colab-df-convert');\n",
              "        buttonEl.style.display =\n",
              "          google.colab.kernel.accessAllowed ? 'block' : 'none';\n",
              "\n",
              "        async function convertToInteractive(key) {\n",
              "          const element = document.querySelector('#df-7115306d-350a-4ce8-8a79-5b32c23582de');\n",
              "          const dataTable =\n",
              "            await google.colab.kernel.invokeFunction('convertToInteractive',\n",
              "                                                     [key], {});\n",
              "          if (!dataTable) return;\n",
              "\n",
              "          const docLinkHtml = 'Like what you see? Visit the ' +\n",
              "            '<a target=\"_blank\" href=https://colab.research.google.com/notebooks/data_table.ipynb>data table notebook</a>'\n",
              "            + ' to learn more about interactive tables.';\n",
              "          element.innerHTML = '';\n",
              "          dataTable['output_type'] = 'display_data';\n",
              "          await google.colab.output.renderOutput(dataTable, element);\n",
              "          const docLink = document.createElement('div');\n",
              "          docLink.innerHTML = docLinkHtml;\n",
              "          element.appendChild(docLink);\n",
              "        }\n",
              "      </script>\n",
              "    </div>\n",
              "  </div>\n",
              "  "
            ]
          },
          "metadata": {},
          "execution_count": 18
        }
      ]
    },
    {
      "cell_type": "code",
      "source": [
        "# clean the dataset \n",
        "dataset.isnull().sum()/len(dataset)"
      ],
      "metadata": {
        "colab": {
          "base_uri": "https://localhost:8080/"
        },
        "id": "dCGEnD5SZYU5",
        "outputId": "9f2dc378-2ede-47c7-ff20-3fc7f02ce6ca"
      },
      "execution_count": 19,
      "outputs": [
        {
          "output_type": "execute_result",
          "data": {
            "text/plain": [
              "Date         0.0\n",
              "Open         0.0\n",
              "High         0.0\n",
              "Low          0.0\n",
              "Close        0.0\n",
              "Adj Close    0.0\n",
              "Volume       0.0\n",
              "dtype: float64"
            ]
          },
          "metadata": {},
          "execution_count": 19
        }
      ]
    },
    {
      "cell_type": "code",
      "source": [
        "dataset.duplicated()"
      ],
      "metadata": {
        "colab": {
          "base_uri": "https://localhost:8080/"
        },
        "id": "HojbX7OaZg1S",
        "outputId": "2371fc13-486c-4dfb-a85d-76ffda399018"
      },
      "execution_count": 20,
      "outputs": [
        {
          "output_type": "execute_result",
          "data": {
            "text/plain": [
              "0      False\n",
              "1      False\n",
              "2      False\n",
              "3      False\n",
              "4      False\n",
              "       ...  \n",
              "360    False\n",
              "361    False\n",
              "362    False\n",
              "363    False\n",
              "364    False\n",
              "Length: 365, dtype: bool"
            ]
          },
          "metadata": {},
          "execution_count": 20
        }
      ]
    },
    {
      "cell_type": "code",
      "source": [
        "dataset[\"High\"].isnull().sum()/len(dataset)"
      ],
      "metadata": {
        "colab": {
          "base_uri": "https://localhost:8080/"
        },
        "id": "NnfZyuqdZne6",
        "outputId": "7cad21ed-5921-46b5-c461-e297327ca0f5"
      },
      "execution_count": 21,
      "outputs": [
        {
          "output_type": "execute_result",
          "data": {
            "text/plain": [
              "0.0"
            ]
          },
          "metadata": {},
          "execution_count": 21
        }
      ]
    },
    {
      "cell_type": "code",
      "source": [
        "dataset[\"High\"].duplicated()"
      ],
      "metadata": {
        "colab": {
          "base_uri": "https://localhost:8080/"
        },
        "id": "rO9DKzvGZuO-",
        "outputId": "b4bcac65-adb1-4d4a-c523-a4413e0ef04d"
      },
      "execution_count": 22,
      "outputs": [
        {
          "output_type": "execute_result",
          "data": {
            "text/plain": [
              "0      False\n",
              "1      False\n",
              "2      False\n",
              "3      False\n",
              "4      False\n",
              "       ...  \n",
              "360    False\n",
              "361    False\n",
              "362    False\n",
              "363    False\n",
              "364    False\n",
              "Name: High, Length: 365, dtype: bool"
            ]
          },
          "metadata": {},
          "execution_count": 22
        }
      ]
    },
    {
      "cell_type": "code",
      "source": [
        "# the dataset is already clean\n"
      ],
      "metadata": {
        "id": "6gRzJa6RZ34i"
      },
      "execution_count": null,
      "outputs": []
    },
    {
      "cell_type": "code",
      "source": [
        "x_variable = [\"High\", \"Low\"]\n",
        "y_variable = [\"Close\"]\n",
        "\n",
        "# reshape the input the pass it into the model\n",
        "x = dataset[x_variable].values.reshape(-1,2)\n",
        "y = dataset[y_variable].values.reshape(-1,1)\n",
        "\n",
        "print(x.shape)\n",
        "print(y.shape)\n"
      ],
      "metadata": {
        "colab": {
          "base_uri": "https://localhost:8080/"
        },
        "id": "8cN2mIVkaBCg",
        "outputId": "28c8298e-a811-42cf-a816-08505298326f"
      },
      "execution_count": 23,
      "outputs": [
        {
          "output_type": "stream",
          "name": "stdout",
          "text": [
            "(365, 2)\n",
            "(365, 1)\n"
          ]
        }
      ]
    },
    {
      "cell_type": "code",
      "source": [
        "# split the dataset for training and testing\n",
        "x_test, x_train, y_test, y_train = train_test_split(x, y, test_size = 0.3) # 70% for trainging and 30% for testing\n",
        "print(x_test.shape)\n",
        "print(x_train.shape)"
      ],
      "metadata": {
        "colab": {
          "base_uri": "https://localhost:8080/"
        },
        "id": "CG1LV7nieDs-",
        "outputId": "4878bed1-d372-4a42-b4d5-20c6f1f75786"
      },
      "execution_count": 24,
      "outputs": [
        {
          "output_type": "stream",
          "name": "stdout",
          "text": [
            "(255, 2)\n",
            "(110, 2)\n"
          ]
        }
      ]
    },
    {
      "cell_type": "code",
      "source": [
        "# build the model\n",
        "linear_regression = LinearRegression()"
      ],
      "metadata": {
        "id": "kTlljsLteePJ"
      },
      "execution_count": 25,
      "outputs": []
    },
    {
      "cell_type": "code",
      "source": [
        "# fit into the model\n",
        "model = linear_regression.fit(x_train, y_train)"
      ],
      "metadata": {
        "id": "S3wnxMbje5Tz"
      },
      "execution_count": 26,
      "outputs": []
    },
    {
      "cell_type": "code",
      "source": [
        "# finding intercept and slopt\n",
        "Q_0 = model.intercept_\n",
        "Q_1 = model.coef_\n",
        "\n",
        "print(Q_0)\n",
        "print(Q_1)"
      ],
      "metadata": {
        "colab": {
          "base_uri": "https://localhost:8080/"
        },
        "id": "G4xuROTTfHCX",
        "outputId": "ffdbf187-fc48-4760-8c5a-477ca2ed4c33"
      },
      "execution_count": 27,
      "outputs": [
        {
          "output_type": "stream",
          "name": "stdout",
          "text": [
            "[844.87145759]\n",
            "[[0.39210954 0.59704367]]\n"
          ]
        }
      ]
    },
    {
      "cell_type": "code",
      "source": [
        "y_predict = model.predict(x_test)\n",
        "print(y_predict)"
      ],
      "metadata": {
        "colab": {
          "base_uri": "https://localhost:8080/"
        },
        "id": "Et0C_JElfXM3",
        "outputId": "c0f30469-1a4c-4ec8-bc8d-c486f9272181"
      },
      "execution_count": 28,
      "outputs": [
        {
          "output_type": "stream",
          "name": "stdout",
          "text": [
            "[[32846.43510683]\n",
            " [36867.74640261]\n",
            " [47931.95916411]\n",
            " [49037.92808973]\n",
            " [65555.94356345]\n",
            " [37196.5027381 ]\n",
            " [61736.44995248]\n",
            " [49583.96191292]\n",
            " [65199.56522556]\n",
            " [33551.85004957]\n",
            " [35315.09587846]\n",
            " [35584.92785253]\n",
            " [56854.65022151]\n",
            " [55922.17461822]\n",
            " [56327.62235503]\n",
            " [52908.46438532]\n",
            " [52144.12901588]\n",
            " [58806.71983566]\n",
            " [54649.16219242]\n",
            " [60080.02579455]\n",
            " [59523.67863855]\n",
            " [48115.70274842]\n",
            " [56056.75435122]\n",
            " [39419.50212044]\n",
            " [37079.1049112 ]\n",
            " [52777.45170268]\n",
            " [37660.36521893]\n",
            " [32230.35133495]\n",
            " [32760.09475027]\n",
            " [36702.81703225]\n",
            " [36297.45508132]\n",
            " [42344.58523277]\n",
            " [53260.16388053]\n",
            " [47207.92480961]\n",
            " [61418.38136196]\n",
            " [58468.46862888]\n",
            " [36210.31495808]\n",
            " [48602.52394811]\n",
            " [44836.12184353]\n",
            " [37557.26415051]\n",
            " [46588.61536376]\n",
            " [57492.44536207]\n",
            " [65067.26743026]\n",
            " [48057.43878152]\n",
            " [48089.75988269]\n",
            " [55411.19428911]\n",
            " [35048.42753805]\n",
            " [57327.07226861]\n",
            " [35561.62154028]\n",
            " [55859.45836303]\n",
            " [47383.06891758]\n",
            " [62353.8659425 ]\n",
            " [57068.20058755]\n",
            " [34315.32248497]\n",
            " [50546.62102971]\n",
            " [48330.77233718]\n",
            " [38691.68057581]\n",
            " [46038.78310155]\n",
            " [47965.57175951]\n",
            " [58077.70931693]\n",
            " [41133.53866237]\n",
            " [41698.77140742]\n",
            " [59139.34356236]\n",
            " [47412.49599596]\n",
            " [55158.75370818]\n",
            " [31663.84683878]\n",
            " [36845.66469652]\n",
            " [46353.00081053]\n",
            " [38421.76181009]\n",
            " [45766.84396151]\n",
            " [64526.67744742]\n",
            " [38952.92065399]\n",
            " [46078.64526843]\n",
            " [63011.42651694]\n",
            " [45904.60405351]\n",
            " [47579.42935265]\n",
            " [49020.63134872]\n",
            " [48805.0351459 ]\n",
            " [37184.56491564]\n",
            " [38916.72887287]\n",
            " [47301.3400393 ]\n",
            " [48561.69658876]\n",
            " [59139.59145566]\n",
            " [34895.94536946]\n",
            " [35341.04962562]\n",
            " [29648.55832443]\n",
            " [33718.43527703]\n",
            " [55967.041251  ]\n",
            " [49139.60143211]\n",
            " [40256.69905726]\n",
            " [40051.81430674]\n",
            " [32391.54764237]\n",
            " [55104.39344951]\n",
            " [44979.96301205]\n",
            " [51166.14353439]\n",
            " [48765.33779139]\n",
            " [61208.97129028]\n",
            " [43410.1682363 ]\n",
            " [42055.40461852]\n",
            " [50199.76007113]\n",
            " [61694.86686198]\n",
            " [49826.03702018]\n",
            " [58336.3705584 ]\n",
            " [56641.9583293 ]\n",
            " [57326.12428455]\n",
            " [46644.673776  ]\n",
            " [31389.24909634]\n",
            " [47652.30157723]\n",
            " [57993.51628233]\n",
            " [35980.46640651]\n",
            " [35152.20147666]\n",
            " [47808.05765609]\n",
            " [31315.79200098]\n",
            " [54582.35318172]\n",
            " [56703.88858048]\n",
            " [58809.19933108]\n",
            " [49199.18682759]\n",
            " [64775.5249118 ]\n",
            " [35131.26521588]\n",
            " [62069.40291383]\n",
            " [52640.03830095]\n",
            " [47552.73632883]\n",
            " [38386.81156914]\n",
            " [39467.35273433]\n",
            " [33761.64457367]\n",
            " [32728.82053684]\n",
            " [34953.14250721]\n",
            " [42962.2756664 ]\n",
            " [49670.17468739]\n",
            " [31105.83979337]\n",
            " [33649.16884728]\n",
            " [57780.80169977]\n",
            " [55926.99048556]\n",
            " [50266.2770887 ]\n",
            " [40685.72317183]\n",
            " [32571.71853757]\n",
            " [31214.01503487]\n",
            " [59405.30608463]\n",
            " [35623.61011647]\n",
            " [46247.31086597]\n",
            " [37056.95818053]\n",
            " [33536.70772062]\n",
            " [51990.6896208 ]\n",
            " [49769.66972951]\n",
            " [38528.22246963]\n",
            " [37793.24722787]\n",
            " [35472.53267865]\n",
            " [34324.9833594 ]\n",
            " [37451.47287414]\n",
            " [41695.10138232]\n",
            " [34120.35721386]\n",
            " [50190.92313741]\n",
            " [51298.96879935]\n",
            " [39631.47451869]\n",
            " [33930.50703987]\n",
            " [49183.88182815]\n",
            " [46621.33562639]\n",
            " [55113.3679465 ]\n",
            " [34771.32273522]\n",
            " [33174.22245979]\n",
            " [48264.53930061]\n",
            " [44643.57611068]\n",
            " [58242.68405549]\n",
            " [48325.26743941]\n",
            " [61454.91868546]\n",
            " [46010.104378  ]\n",
            " [44471.55614986]\n",
            " [58596.28739373]\n",
            " [31149.91349048]\n",
            " [59958.1729859 ]\n",
            " [40052.67038523]\n",
            " [37070.99565176]\n",
            " [45628.33155597]\n",
            " [37093.11491218]\n",
            " [34030.27944319]\n",
            " [57784.24635857]\n",
            " [55177.30824988]\n",
            " [47900.80707275]\n",
            " [53752.17099483]\n",
            " [46904.11495996]\n",
            " [56648.17726992]\n",
            " [38561.22371006]\n",
            " [47768.48193749]\n",
            " [50247.0625645 ]\n",
            " [48001.5970985 ]\n",
            " [48932.45233569]\n",
            " [57655.70998733]\n",
            " [37278.70460866]\n",
            " [33477.60647353]\n",
            " [50470.45226069]\n",
            " [45142.58015288]\n",
            " [46793.02497786]\n",
            " [56753.60147502]\n",
            " [54500.71653335]\n",
            " [45531.47150801]\n",
            " [56795.46030118]\n",
            " [55268.98792391]\n",
            " [49939.05842689]\n",
            " [49724.11354819]\n",
            " [36247.5149685 ]\n",
            " [46950.47039135]\n",
            " [53259.34883858]\n",
            " [39286.86254433]\n",
            " [48044.90942891]\n",
            " [46634.23716655]\n",
            " [49125.56670657]\n",
            " [50025.08036456]\n",
            " [45823.24001224]\n",
            " [61896.16984047]\n",
            " [64877.58335526]\n",
            " [51879.10873542]\n",
            " [34644.43368304]\n",
            " [63728.75085852]\n",
            " [36966.63930749]\n",
            " [48109.28314629]\n",
            " [35996.88524561]\n",
            " [43813.3369397 ]\n",
            " [44326.00830639]\n",
            " [34510.2047928 ]\n",
            " [35260.20959104]\n",
            " [60915.57081075]\n",
            " [31595.50523812]\n",
            " [50759.78172192]\n",
            " [50047.04739759]\n",
            " [34940.73189947]\n",
            " [39524.6465022 ]\n",
            " [60440.52854237]\n",
            " [56808.78194972]\n",
            " [53377.35457573]\n",
            " [47901.60685423]\n",
            " [34914.90771574]\n",
            " [35042.64456654]\n",
            " [33325.39882742]\n",
            " [56923.0901011 ]\n",
            " [33152.47971121]\n",
            " [62259.54667068]\n",
            " [32185.83891808]\n",
            " [45158.86641592]\n",
            " [64046.38775527]\n",
            " [61656.05291715]\n",
            " [33556.3577224 ]\n",
            " [46229.88329442]\n",
            " [58775.14989628]\n",
            " [48924.6305003 ]\n",
            " [59630.64416052]\n",
            " [47119.08044733]\n",
            " [32334.58089337]\n",
            " [47690.29003398]\n",
            " [67349.26015334]\n",
            " [52772.49646469]\n",
            " [61065.88980635]\n",
            " [56523.47173451]\n",
            " [45701.03947918]\n",
            " [47274.88750555]\n",
            " [49632.56730798]]\n"
          ]
        }
      ]
    },
    {
      "cell_type": "code",
      "source": [
        "# predict specific value\n",
        "x_assumption = np.array([29600.626953,28803.585938])\n",
        "x_assumption = x_assumption.reshape(-1,2)\n",
        "\n",
        "y_pre = model.predict(x_assumption)\n",
        "print(y_pre)\n",
        "\n",
        "# Predicted data: \"Close\" = 29648.55832443\n",
        "# Real data: \"Close\" = 29374.152344"
      ],
      "metadata": {
        "colab": {
          "base_uri": "https://localhost:8080/"
        },
        "id": "a0qx7HzlgBQf",
        "outputId": "34ad62cd-a39b-43bb-a1b4-c9e51a4fcdf8"
      },
      "execution_count": 30,
      "outputs": [
        {
          "output_type": "stream",
          "name": "stdout",
          "text": [
            "[[29648.55832443]]\n"
          ]
        }
      ]
    },
    {
      "cell_type": "code",
      "source": [
        "from sklearn.metrics import r2_score \n",
        "r2 = sklearn.metrics.r2_score(y_test, y_predict)\n",
        "print(r2)"
      ],
      "metadata": {
        "colab": {
          "base_uri": "https://localhost:8080/"
        },
        "id": "4j6jDEshpH3M",
        "outputId": "7729f826-eca4-4b90-f30c-fd269753b9c1"
      },
      "execution_count": 42,
      "outputs": [
        {
          "output_type": "stream",
          "name": "stdout",
          "text": [
            "0.9881429525041072\n"
          ]
        }
      ]
    }
  ]
}