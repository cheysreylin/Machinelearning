{
  "nbformat": 4,
  "nbformat_minor": 0,
  "metadata": {
    "colab": {
      "name": "Decision_tree(createdataset).ipynb",
      "provenance": [],
      "collapsed_sections": [],
      "include_colab_link": true
    },
    "kernelspec": {
      "name": "python3",
      "display_name": "Python 3"
    },
    "language_info": {
      "name": "python"
    },
    "accelerator": "GPU",
    "gpuClass": "standard"
  },
  "cells": [
    {
      "cell_type": "markdown",
      "metadata": {
        "id": "view-in-github",
        "colab_type": "text"
      },
      "source": [
        "<a href=\"https://colab.research.google.com/github/cheysreylin/Machinelearning/blob/main/Decision_tree(createdataset).ipynb\" target=\"_parent\"><img src=\"https://colab.research.google.com/assets/colab-badge.svg\" alt=\"Open In Colab\"/></a>"
      ]
    },
    {
      "cell_type": "markdown",
      "source": [
        "To create your own data \n",
        "1. dataset\n",
        "2. dataframe => create the table \n",
        "3. x-variable, y-variable\n",
        "4. convert categorical to numerical \n",
        "5. decision tree\n",
        "6. predict\n",
        "7. evaluation matrics\n",
        "\n",
        "\n",
        "# Where do we use decision tree in real life ?"
      ],
      "metadata": {
        "id": "JyVHYZZkrctV"
      }
    },
    {
      "cell_type": "code",
      "execution_count": null,
      "metadata": {
        "id": "qEKvpWgWq5fE"
      },
      "outputs": [],
      "source": [
        "import sklearn\n",
        "import numpy as np\n",
        "import pandas as pd\n",
        "import matplotlib.pyplot as plt\n",
        "\n",
        "from sklearn import datasets\n",
        "from sklearn.model_selection import train_test_split\n",
        "from sklearn.neighbors import KNeighborsClassifier\n",
        "from sklearn import preprocessing"
      ]
    },
    {
      "cell_type": "code",
      "source": [
        "data_dictionary = { 'Outlook'   :[\"Sunny\", \"Sunny\", \"Overcast\", \"Rain\", \"Rain\", \"Rain\", \"Overcast\", \"Sunny\", \"Sunny\", \"Rain\", \"Sunny\",\"Overcast\",\"Overcast\",\"Rain\"],\n",
        "                    'Temperature': [\"Hot\", \"Hot\", \"Hot\", \"Mild\", \"Cool\", \"Cool\", \"Cool\", \"Mild\", \"Cool\", \"Mild\", \"Mild\",\"Mild\",\"Hot\",\"Mild\"],\n",
        "                    'Humidity'   :[\"High\", \"High\", \"High\", \"High\", \"Normal\",   \"Normal\",  \"Normal\", \"High\",  \"Normal\",  \"Normal\",  \"Normal\", \"High\", \"Normal\", \"High\"],\n",
        "                    'Wind'       : [\"Weak\", \"Strong\",\"Weak\",\"Weak\",\"Weak\",\"Strong\",\"Strong\",\"Weak\",\"Weak\",\"Weak\",\"Strong\",\"Strong\",\"Weak\",\"Strong\"],\n",
        "                    'Result'     :[\"No\",\"No\",\"Yes\",\"Yes\",\"Yes\", \"No\",\"Yes\",\"No\",\"Yes\",\"Yes\",\"Yes\",\"Yes\",\"Yes\",\"No\" ] \n",
        "                  }"
      ],
      "metadata": {
        "id": "ZWmraJgmsp2U"
      },
      "execution_count": null,
      "outputs": []
    },
    {
      "cell_type": "code",
      "source": [
        "dataframe = pd.DataFrame(data_dictionary)\n",
        "print(dataframe)"
      ],
      "metadata": {
        "colab": {
          "base_uri": "https://localhost:8080/"
        },
        "id": "3wL8llq9rVpm",
        "outputId": "cbef7966-21d8-4a22-9a37-e5d0380da31d"
      },
      "execution_count": null,
      "outputs": [
        {
          "output_type": "stream",
          "name": "stdout",
          "text": [
            "     Outlook Temperature Humidity    Wind Result\n",
            "0      Sunny         Hot     High    Weak     No\n",
            "1      Sunny         Hot     High  Strong     No\n",
            "2   Overcast         Hot     High    Weak    Yes\n",
            "3       Rain        Mild     High    Weak    Yes\n",
            "4       Rain        Cool   Normal    Weak    Yes\n",
            "5       Rain        Cool   Normal  Strong     No\n",
            "6   Overcast        Cool   Normal  Strong    Yes\n",
            "7      Sunny        Mild     High    Weak     No\n",
            "8      Sunny        Cool   Normal    Weak    Yes\n",
            "9       Rain        Mild   Normal    Weak    Yes\n",
            "10     Sunny        Mild   Normal  Strong    Yes\n",
            "11  Overcast        Mild     High  Strong    Yes\n",
            "12  Overcast         Hot   Normal    Weak    Yes\n",
            "13      Rain        Mild     High  Strong     No\n"
          ]
        }
      ]
    },
    {
      "cell_type": "code",
      "source": [
        "dataframe.columns"
      ],
      "metadata": {
        "id": "rrmc_b86uXS9",
        "outputId": "c494a081-7706-480c-9704-befa2fae4b0b",
        "colab": {
          "base_uri": "https://localhost:8080/"
        }
      },
      "execution_count": null,
      "outputs": [
        {
          "output_type": "execute_result",
          "data": {
            "text/plain": [
              "Index(['Outlook', 'Temperature', 'Humidity', 'Wind', 'Result'], dtype='object')"
            ]
          },
          "metadata": {},
          "execution_count": 170
        }
      ]
    },
    {
      "cell_type": "code",
      "source": [
        "x_var = ['Outlook', 'Temperature', 'Humidity', 'Wind']\n",
        "y_var = ['Result']\n",
        "\n",
        "x = dataframe[x_var].values.reshape(-1,4)\n",
        "y = dataframe[y_var].values.reshape(-1,1)\n",
        "\n",
        "print(x.shape)\n",
        "print(y.shape)"
      ],
      "metadata": {
        "id": "kuTh8jZXucxm",
        "outputId": "2ef72bc8-125c-4158-9e8a-5e0c8ff885d6",
        "colab": {
          "base_uri": "https://localhost:8080/"
        }
      },
      "execution_count": null,
      "outputs": [
        {
          "output_type": "stream",
          "name": "stdout",
          "text": [
            "(14, 4)\n",
            "(14, 1)\n"
          ]
        }
      ]
    },
    {
      "cell_type": "code",
      "source": [
        "# dataframe[\"Outlook\"].columns"
      ],
      "metadata": {
        "id": "zg_1jdOzw24c"
      },
      "execution_count": null,
      "outputs": []
    },
    {
      "cell_type": "code",
      "source": [
        "# convert from categorical to numerical data\n",
        "from sklearn import preprocessing\n",
        "\n",
        "Outlook = preprocessing.LabelEncoder()\n",
        "Outlook.fit(['Sunny', 'Overcast', 'Rain'])\n",
        "x[:,0] = Outlook.transform(x[:,0])\n",
        "\n",
        "Temperature = preprocessing.LabelEncoder()\n",
        "Temperature.fit(['Hot', 'Mild', 'Cool'])\n",
        "x[:,1] = Temperature.transform(x[:,1])\n",
        "\n",
        "Humidity = preprocessing.LabelEncoder()\n",
        "Humidity.fit(['High', 'Normal'])\n",
        "x[:,2] = Humidity.transform(x[:,2])\n",
        "\n",
        "Wind = preprocessing.LabelEncoder()\n",
        "Wind.fit(['Weak', 'Strong'])\n",
        "x[:,3] = Wind.transform(x[:,3])\n",
        "\n",
        "\n"
      ],
      "metadata": {
        "id": "elLd8pPDwNjB"
      },
      "execution_count": null,
      "outputs": []
    },
    {
      "cell_type": "code",
      "source": [
        "# print(x)\n",
        "x[0:5]"
      ],
      "metadata": {
        "colab": {
          "base_uri": "https://localhost:8080/"
        },
        "id": "oCibjUVQzws-",
        "outputId": "103d49f1-7456-426d-bbd2-564b08ce2212"
      },
      "execution_count": null,
      "outputs": [
        {
          "output_type": "execute_result",
          "data": {
            "text/plain": [
              "array([[2, 1, 0, 1],\n",
              "       [2, 1, 0, 0],\n",
              "       [0, 1, 0, 1],\n",
              "       [1, 2, 0, 1],\n",
              "       [1, 0, 1, 1]], dtype=object)"
            ]
          },
          "metadata": {},
          "execution_count": 174
        }
      ]
    },
    {
      "cell_type": "code",
      "source": [
        "# split data \n",
        "x_train, x_test, y_train, y_test = train_test_split(x,y,test_size = 0.2, random_state = 1) # random_state = to get the same value of training and testing\n",
        "print(x_test.shape)\n",
        "print(x_train.shape)"
      ],
      "metadata": {
        "colab": {
          "base_uri": "https://localhost:8080/"
        },
        "id": "PmoBKvPZ0CT8",
        "outputId": "c224e247-571e-43d3-cdb7-2221a1c8939c"
      },
      "execution_count": null,
      "outputs": [
        {
          "output_type": "stream",
          "name": "stdout",
          "text": [
            "(3, 4)\n",
            "(11, 4)\n"
          ]
        }
      ]
    },
    {
      "cell_type": "code",
      "source": [
        "# Build the model\n",
        "from sklearn.tree import DecisionTreeClassifier\n",
        "import sklearn.tree as tree\n",
        "# foot_Tree = DecisionTreeClassifier(criterion=\"entropy\", max_depth = 3, splitter='best').fit(x_train,y_train)\n",
        "foot_Tree = DecisionTreeClassifier(criterion=\"entropy\", max_depth = 3, splitter='best').fit(x_train,y_train)\n"
      ],
      "metadata": {
        "id": "SVm3FM5x0pdb"
      },
      "execution_count": null,
      "outputs": []
    },
    {
      "cell_type": "code",
      "source": [
        "# predict\n",
        "y_predict = foot_Tree.predict(x_test)\n",
        "print(y_predict[:8])\n",
        "print(y_test[:8])\n"
      ],
      "metadata": {
        "colab": {
          "base_uri": "https://localhost:8080/"
        },
        "id": "S9nv7p_d1Lag",
        "outputId": "d0311666-f8df-4082-b30a-bab6e69cf233"
      },
      "execution_count": null,
      "outputs": [
        {
          "output_type": "stream",
          "name": "stdout",
          "text": [
            "['No' 'No' 'Yes']\n",
            "[['Yes']\n",
            " ['No']\n",
            " ['Yes']]\n"
          ]
        }
      ]
    },
    {
      "cell_type": "code",
      "source": [
        "# https://colab.research.google.com/drive/1YqYVPqSE1KDhkIIruAPngRFTtChD1-Qq?usp=sharing"
      ],
      "metadata": {
        "id": "HpNOWxIw2qT6"
      },
      "execution_count": null,
      "outputs": []
    },
    {
      "cell_type": "code",
      "source": [
        "# evalualate\n",
        "from sklearn import metrics \n",
        "import matplotlib.pyplot as plt\n",
        "print(\"Decision Trees's Accuracy: \", metrics.accuracy_score(y_predict, y_test))"
      ],
      "metadata": {
        "colab": {
          "base_uri": "https://localhost:8080/"
        },
        "id": "faMTlxJ53Dge",
        "outputId": "4abc9167-e10c-4fc6-f390-ae02dc8bebf7"
      },
      "execution_count": null,
      "outputs": [
        {
          "output_type": "stream",
          "name": "stdout",
          "text": [
            "Decision Trees's Accuracy:  0.6666666666666666\n"
          ]
        }
      ]
    },
    {
      "cell_type": "code",
      "source": [
        "# code to improve the accuracy\n",
        "# from sklearn.metrics import accuracy_score, confusion_matrix, f1_score\n",
        "\n",
        "# acc = accuracy_score(y_test, y_predict)\n",
        "# confusion_m = confusion_matrix(y_test, y_predict)\n",
        "# f1 = f1_score(y_test, y_predict, average='micro')\n",
        "# print(acc)\n",
        "# print(f1)"
      ],
      "metadata": {
        "id": "6GojClm8LmkK"
      },
      "execution_count": null,
      "outputs": []
    },
    {
      "cell_type": "markdown",
      "source": [
        "# data normalization ( sdandard scalar = > to find the accuracy  )"
      ],
      "metadata": {
        "id": "g9nXijowr6kJ"
      }
    },
    {
      "cell_type": "code",
      "source": [
        "tree.plot_tree(foot_Tree)\n",
        "plt.show"
      ],
      "metadata": {
        "colab": {
          "base_uri": "https://localhost:8080/",
          "height": 265
        },
        "id": "vB-tT15q3xKO",
        "outputId": "4e1ebf2a-e100-4de4-f518-0c43a9bde3a6"
      },
      "execution_count": null,
      "outputs": [
        {
          "output_type": "execute_result",
          "data": {
            "text/plain": [
              "<function matplotlib.pyplot.show>"
            ]
          },
          "metadata": {},
          "execution_count": 181
        },
        {
          "output_type": "display_data",
          "data": {
            "text/plain": [
              "<Figure size 432x288 with 1 Axes>"
            ],
            "image/png": "[encoded data removed]"
          },
          "metadata": {
            "needs_background": "light"
          }
        }
      ]
    }
  ]
}